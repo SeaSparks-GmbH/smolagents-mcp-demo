{
 "cells": [
  {
   "metadata": {},
   "cell_type": "markdown",
   "source": "# Start a MCP Server",
   "id": "6d92675a482e686d"
  },
  {
   "metadata": {
    "ExecuteTime": {
     "end_time": "2025-05-06T18:22:08.618498Z",
     "start_time": "2025-05-06T18:22:08.615782Z"
    }
   },
   "cell_type": "code",
   "source": [
    "import subprocess\n",
    "notebook_subprocesses = []\n",
    "\n",
    "# Global list to keep track of all subprocesses\n",
    "notebook_subprocesses = []"
   ],
   "id": "406924d06314ea6",
   "outputs": [],
   "execution_count": 1
  },
  {
   "metadata": {},
   "cell_type": "code",
   "source": [
    "# Start Library Server (port 58002)\n",
    "proc = subprocess.Popen([\"python\", \"library_server.py\"])\n",
    "notebook_subprocesses.append(proc)"
   ],
   "id": "7752a51c7f34a690",
   "outputs": [],
   "execution_count": null
  },
  {
   "metadata": {},
   "cell_type": "markdown",
   "source": "# Smolagents MCP Client Example Usage",
   "id": "c9e083fcf7560076"
  },
  {
   "metadata": {},
   "cell_type": "code",
   "source": [
    "#pip install smolagents[mcp]\n",
    "from smolagents.mcp_client import MCPClient\n",
    "\n",
    "url_list = [{\"url\":\"http://localhost:58002/sse\"}]\n",
    "\n",
    "def show_tools(url_list=url_list):\n",
    "    #for url in url_list:\n",
    "    try:\n",
    "        mcp_client = MCPClient(url_list)\n",
    "        tools = mcp_client.get_tools()\n",
    "        print(\"------------------------------------\")\n",
    "        for tool in tools:\n",
    "            print(\"tool.name: \", tool.name)\n",
    "            print(\"tool.description: \", tool.description)\n",
    "            print(\"tool.inputs: \",tool.inputs)\n",
    "            print(\"tool.output_type: \", tool.output_type)\n",
    "            print(\"------------------------------------\")\n",
    "        # use your tools here.\n",
    "    finally:\n",
    "        mcp_client.disconnect()\n",
    "\n",
    "show_tools()"
   ],
   "id": "95667e5bb2011e2f",
   "outputs": [],
   "execution_count": null
  },
  {
   "metadata": {},
   "cell_type": "markdown",
   "source": "# A minimal Host",
   "id": "d838855c7d326987"
  },
  {
   "metadata": {},
   "cell_type": "code",
   "source": [
    "from smolagents.agents import CodeAgent\n",
    "from smolagents.models import OpenAIServerModel\n",
    "\n",
    "openai_api_key = \"your-openai-key\"\n",
    "\n",
    "model = OpenAIServerModel(\n",
    "    model_id=\"gpt-4o-mini\",\n",
    "    api_key=openai_api_key,\n",
    ")\n",
    "\n",
    "def run_host_query(user_input: str, url_list=url_list):\n",
    "    with MCPClient(url_list) as tools:\n",
    "        agent = CodeAgent(\n",
    "            tools=tools,\n",
    "            model=model,\n",
    "            additional_authorized_imports=[\"json\"]\n",
    "        )\n",
    "        return agent.run(user_input)"
   ],
   "id": "f09d7fc8a02f4ed3",
   "outputs": [],
   "execution_count": null
  },
  {
   "metadata": {},
   "cell_type": "code",
   "source": "run_host_query(\"Which documents are available?\")",
   "id": "645bebb8c89266f4",
   "outputs": [],
   "execution_count": null
  },
  {
   "metadata": {},
   "cell_type": "code",
   "source": "run_host_query(\"Give me a summary of the quantum squrrel report, please.\")",
   "id": "bafdbe9fd1fad3c0",
   "outputs": [],
   "execution_count": null
  },
  {
   "metadata": {},
   "cell_type": "code",
   "source": "run_host_query(\"I would like to see the full text of the quantum quirrel, please.\")",
   "id": "fdc07a0a79c70dee",
   "outputs": [],
   "execution_count": null
  },
  {
   "metadata": {},
   "cell_type": "code",
   "source": "run_host_query(\"Give me a summary of the latin speaking turnip, please.\")",
   "id": "c902160c7a4365de",
   "outputs": [],
   "execution_count": null
  },
  {
   "metadata": {},
   "cell_type": "code",
   "source": "run_host_query(\"Give me a summary of the note of conservation of coffee energy, please.\")",
   "id": "80cf7cceda4e45ce",
   "outputs": [],
   "execution_count": null
  },
  {
   "metadata": {},
   "cell_type": "markdown",
   "source": "# Terminate all servers",
   "id": "e406ee44dd526a97"
  },
  {
   "metadata": {},
   "cell_type": "code",
   "source": [
    "for proc in notebook_subprocesses:\n",
    "    proc.terminate()  # or proc.kill() for force\n",
    "notebook_subprocesses.clear()"
   ],
   "id": "55829d5e3c28c7f7",
   "outputs": [],
   "execution_count": null
  }
 ],
 "metadata": {
  "kernelspec": {
   "display_name": "Python [conda env:miniconda-mcp_v1] *",
   "language": "python",
   "name": "conda-env-miniconda-mcp_v1-py"
  },
  "language_info": {
   "codemirror_mode": {
    "name": "ipython",
    "version": 2
   },
   "file_extension": ".py",
   "mimetype": "text/x-python",
   "name": "python",
   "nbconvert_exporter": "python",
   "pygments_lexer": "ipython2",
   "version": "2.7.6"
  }
 },
 "nbformat": 4,
 "nbformat_minor": 5
}
